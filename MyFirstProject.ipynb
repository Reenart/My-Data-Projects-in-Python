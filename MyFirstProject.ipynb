{
 "cells": [
  {
   "cell_type": "code",
   "execution_count": 3,
   "id": "b393931f-a677-4d71-bd20-fbc9ec504d02",
   "metadata": {},
   "outputs": [],
   "source": [
    "import pandas as pd\n",
    "import numpy as np\n",
    "import matplotlib.pyplot as plt\n",
    "import seaborn as sns"
   ]
  },
  {
   "cell_type": "code",
   "execution_count": 10,
   "id": "e340be4f-89b0-4868-a0a7-31fac1d3a17f",
   "metadata": {},
   "outputs": [],
   "source": [
    "#dataset = pd.read_excel('Work Dataset.xlsx')"
   ]
  },
  {
   "cell_type": "code",
   "execution_count": 8,
   "id": "1f05c230-461c-4c16-8812-c16e33f8d3ae",
   "metadata": {},
   "outputs": [
    {
     "name": "stdout",
     "output_type": "stream",
     "text": [
      "[datetime.time(10, 36), datetime.time(10, 42), datetime.time(10, 30), datetime.time(11, 24), datetime.time(10, 40), datetime.time(10, 40), datetime.time(11, 40), datetime.time(11, 33), datetime.time(10, 35), datetime.time(10, 33)]\n"
     ]
    }
   ],
   "source": [
    "#load dataste\n",
    "dataset = pd.read_excel(\"Work Dataset.xlsx\")  \n",
    "print(dataset['Start Time'].head(10).to_list())"
   ]
  },
  {
   "cell_type": "code",
   "execution_count": 10,
   "id": "c6d402af-ae18-4e72-bb75-8cc71f7a189b",
   "metadata": {},
   "outputs": [
    {
     "name": "stdout",
     "output_type": "stream",
     "text": [
      "<class 'datetime.time'>\n"
     ]
    }
   ],
   "source": [
    "dataset = pd.read_excel(\"Work Dataset.xlsx\")\n",
    "\n",
    "# Confirm again  \n",
    "print(type(dataset['Start Time'][0]))  \n"
   ]
  },
  {
   "cell_type": "code",
   "execution_count": 12,
   "id": "89481104-b3e0-4e5a-9377-6744531c41e2",
   "metadata": {},
   "outputs": [],
   "source": [
    "from datetime import datetime, timedelta\n",
    "\n",
    "# Combine 'Date' and 'Start Time' and force PM (add 12 hours)\n",
    "dataset['Start DateTime'] = dataset.apply(\n",
    "    lambda row: datetime.combine(row['Date'], row['Start Time']) + timedelta(hours=12),\n",
    "    axis=1\n",
    ")"
   ]
  },
  {
   "cell_type": "code",
   "execution_count": 26,
   "id": "a96136fc-6d76-49af-a0e1-4bf65583ddbb",
   "metadata": {},
   "outputs": [
    {
     "data": {
      "text/html": [
       "<div>\n",
       "<style scoped>\n",
       "    .dataframe tbody tr th:only-of-type {\n",
       "        vertical-align: middle;\n",
       "    }\n",
       "\n",
       "    .dataframe tbody tr th {\n",
       "        vertical-align: top;\n",
       "    }\n",
       "\n",
       "    .dataframe thead th {\n",
       "        text-align: right;\n",
       "    }\n",
       "</style>\n",
       "<table border=\"1\" class=\"dataframe\">\n",
       "  <thead>\n",
       "    <tr style=\"text-align: right;\">\n",
       "      <th></th>\n",
       "      <th>Date</th>\n",
       "      <th>Day</th>\n",
       "      <th>Start Time</th>\n",
       "      <th>Feeling</th>\n",
       "      <th>Music</th>\n",
       "      <th>Genre</th>\n",
       "      <th>Break Duration</th>\n",
       "      <th>Building Condition</th>\n",
       "      <th>Type of Cleaning</th>\n",
       "      <th>Completion Time</th>\n",
       "      <th>Comment</th>\n",
       "      <th>Start DateTime</th>\n",
       "      <th>End DateTime</th>\n",
       "      <th>Duration</th>\n",
       "    </tr>\n",
       "  </thead>\n",
       "  <tbody>\n",
       "    <tr>\n",
       "      <th>0</th>\n",
       "      <td>2024-11-10</td>\n",
       "      <td>Sunday Night</td>\n",
       "      <td>10:36:00</td>\n",
       "      <td>Neutral</td>\n",
       "      <td>Yes</td>\n",
       "      <td>Blues</td>\n",
       "      <td>45</td>\n",
       "      <td>Semi-clean</td>\n",
       "      <td>Minimal</td>\n",
       "      <td>04:21:00</td>\n",
       "      <td>Overtime worked</td>\n",
       "      <td>2024-11-10 22:36:00</td>\n",
       "      <td>2024-11-11 04:21:00</td>\n",
       "      <td>0 days 05:45:00</td>\n",
       "    </tr>\n",
       "    <tr>\n",
       "      <th>1</th>\n",
       "      <td>2024-11-11</td>\n",
       "      <td>Monday night</td>\n",
       "      <td>10:42:00</td>\n",
       "      <td>Tired</td>\n",
       "      <td>Yes</td>\n",
       "      <td>Mixed</td>\n",
       "      <td>45</td>\n",
       "      <td>Dirty</td>\n",
       "      <td>Detailed</td>\n",
       "      <td>05:07:00</td>\n",
       "      <td>NaN</td>\n",
       "      <td>2024-11-11 22:42:00</td>\n",
       "      <td>2024-11-12 05:07:00</td>\n",
       "      <td>0 days 06:25:00</td>\n",
       "    </tr>\n",
       "    <tr>\n",
       "      <th>2</th>\n",
       "      <td>2024-11-12</td>\n",
       "      <td>Tues night</td>\n",
       "      <td>10:30:00</td>\n",
       "      <td>Tired</td>\n",
       "      <td>No</td>\n",
       "      <td>NaN</td>\n",
       "      <td>30</td>\n",
       "      <td>Dirty</td>\n",
       "      <td>Detailed</td>\n",
       "      <td>05:24:00</td>\n",
       "      <td>NaN</td>\n",
       "      <td>2024-11-12 22:30:00</td>\n",
       "      <td>2024-11-13 05:24:00</td>\n",
       "      <td>0 days 06:54:00</td>\n",
       "    </tr>\n",
       "  </tbody>\n",
       "</table>\n",
       "</div>"
      ],
      "text/plain": [
       "        Date           Day Start Time  Feeling Music  Genre  Break Duration  \\\n",
       "0 2024-11-10  Sunday Night   10:36:00  Neutral   Yes  Blues              45   \n",
       "1 2024-11-11  Monday night   10:42:00    Tired   Yes  Mixed              45   \n",
       "2 2024-11-12    Tues night   10:30:00    Tired    No    NaN              30   \n",
       "\n",
       "  Building Condition Type of Cleaning Completion Time          Comment  \\\n",
       "0         Semi-clean          Minimal        04:21:00  Overtime worked   \n",
       "1              Dirty         Detailed        05:07:00              NaN   \n",
       "2              Dirty         Detailed        05:24:00              NaN   \n",
       "\n",
       "       Start DateTime        End DateTime        Duration  \n",
       "0 2024-11-10 22:36:00 2024-11-11 04:21:00 0 days 05:45:00  \n",
       "1 2024-11-11 22:42:00 2024-11-12 05:07:00 0 days 06:25:00  \n",
       "2 2024-11-12 22:30:00 2024-11-13 05:24:00 0 days 06:54:00  "
      ]
     },
     "execution_count": 26,
     "metadata": {},
     "output_type": "execute_result"
    }
   ],
   "source": [
    "dataset.head(3)"
   ]
  },
  {
   "cell_type": "code",
   "execution_count": 28,
   "id": "9d6bb2d5-21b8-4765-906e-556498d8a259",
   "metadata": {},
   "outputs": [
    {
     "data": {
      "text/html": [
       "<div>\n",
       "<style scoped>\n",
       "    .dataframe tbody tr th:only-of-type {\n",
       "        vertical-align: middle;\n",
       "    }\n",
       "\n",
       "    .dataframe tbody tr th {\n",
       "        vertical-align: top;\n",
       "    }\n",
       "\n",
       "    .dataframe thead th {\n",
       "        text-align: right;\n",
       "    }\n",
       "</style>\n",
       "<table border=\"1\" class=\"dataframe\">\n",
       "  <thead>\n",
       "    <tr style=\"text-align: right;\">\n",
       "      <th></th>\n",
       "      <th>Date</th>\n",
       "      <th>Day</th>\n",
       "      <th>Start Time</th>\n",
       "      <th>Feeling</th>\n",
       "      <th>Music</th>\n",
       "      <th>Genre</th>\n",
       "      <th>Break Duration</th>\n",
       "      <th>Building Condition</th>\n",
       "      <th>Type of Cleaning</th>\n",
       "      <th>Completion Time</th>\n",
       "      <th>Comment</th>\n",
       "      <th>Start DateTime</th>\n",
       "      <th>End DateTime</th>\n",
       "      <th>Duration</th>\n",
       "    </tr>\n",
       "  </thead>\n",
       "  <tbody>\n",
       "    <tr>\n",
       "      <th>0</th>\n",
       "      <td>2024-11-10</td>\n",
       "      <td>Sunday Night</td>\n",
       "      <td>10:36:00</td>\n",
       "      <td>Neutral</td>\n",
       "      <td>Yes</td>\n",
       "      <td>Blues</td>\n",
       "      <td>45</td>\n",
       "      <td>Semi-clean</td>\n",
       "      <td>Minimal</td>\n",
       "      <td>04:21:00</td>\n",
       "      <td>Overtime worked</td>\n",
       "      <td>2024-11-10 22:36:00</td>\n",
       "      <td>2024-11-11 04:21:00</td>\n",
       "      <td>0 days 05:45:00</td>\n",
       "    </tr>\n",
       "    <tr>\n",
       "      <th>1</th>\n",
       "      <td>2024-11-11</td>\n",
       "      <td>Monday night</td>\n",
       "      <td>10:42:00</td>\n",
       "      <td>Tired</td>\n",
       "      <td>Yes</td>\n",
       "      <td>Mixed</td>\n",
       "      <td>45</td>\n",
       "      <td>Dirty</td>\n",
       "      <td>Detailed</td>\n",
       "      <td>05:07:00</td>\n",
       "      <td>NaN</td>\n",
       "      <td>2024-11-11 22:42:00</td>\n",
       "      <td>2024-11-12 05:07:00</td>\n",
       "      <td>0 days 06:25:00</td>\n",
       "    </tr>\n",
       "    <tr>\n",
       "      <th>2</th>\n",
       "      <td>2024-11-12</td>\n",
       "      <td>Tues night</td>\n",
       "      <td>10:30:00</td>\n",
       "      <td>Tired</td>\n",
       "      <td>No</td>\n",
       "      <td>NaN</td>\n",
       "      <td>30</td>\n",
       "      <td>Dirty</td>\n",
       "      <td>Detailed</td>\n",
       "      <td>05:24:00</td>\n",
       "      <td>NaN</td>\n",
       "      <td>2024-11-12 22:30:00</td>\n",
       "      <td>2024-11-13 05:24:00</td>\n",
       "      <td>0 days 06:54:00</td>\n",
       "    </tr>\n",
       "  </tbody>\n",
       "</table>\n",
       "</div>"
      ],
      "text/plain": [
       "        Date           Day Start Time  Feeling Music  Genre  Break Duration  \\\n",
       "0 2024-11-10  Sunday Night   10:36:00  Neutral   Yes  Blues              45   \n",
       "1 2024-11-11  Monday night   10:42:00    Tired   Yes  Mixed              45   \n",
       "2 2024-11-12    Tues night   10:30:00    Tired    No    NaN              30   \n",
       "\n",
       "  Building Condition Type of Cleaning Completion Time          Comment  \\\n",
       "0         Semi-clean          Minimal        04:21:00  Overtime worked   \n",
       "1              Dirty         Detailed        05:07:00              NaN   \n",
       "2              Dirty         Detailed        05:24:00              NaN   \n",
       "\n",
       "       Start DateTime        End DateTime        Duration  \n",
       "0 2024-11-10 22:36:00 2024-11-11 04:21:00 0 days 05:45:00  \n",
       "1 2024-11-11 22:42:00 2024-11-12 05:07:00 0 days 06:25:00  \n",
       "2 2024-11-12 22:30:00 2024-11-13 05:24:00 0 days 06:54:00  "
      ]
     },
     "execution_count": 28,
     "metadata": {},
     "output_type": "execute_result"
    }
   ],
   "source": [
    "dataset['End DateTime'] = dataset.apply(\n",
    "    lambda row: datetime.combine(row['Date'], row['Completion Time']) +\n",
    "                timedelta(days=1 if row['Completion Time'] < row['Start Time'] else 0),\n",
    "    axis=1\n",
    ")\n",
    "dataset.head(3)"
   ]
  },
  {
   "cell_type": "code",
   "execution_count": 30,
   "id": "3870d8e7-9fdc-405b-b776-56cc2fc7cf1d",
   "metadata": {},
   "outputs": [],
   "source": [
    "#calculate duration\n",
    "dataset['Duration'] = dataset['End DateTime'] - dataset['Start DateTime']"
   ]
  },
  {
   "cell_type": "code",
   "execution_count": 32,
   "id": "a7f2b758-74c1-499b-aff7-148fc423b356",
   "metadata": {},
   "outputs": [
    {
     "data": {
      "text/html": [
       "<div>\n",
       "<style scoped>\n",
       "    .dataframe tbody tr th:only-of-type {\n",
       "        vertical-align: middle;\n",
       "    }\n",
       "\n",
       "    .dataframe tbody tr th {\n",
       "        vertical-align: top;\n",
       "    }\n",
       "\n",
       "    .dataframe thead th {\n",
       "        text-align: right;\n",
       "    }\n",
       "</style>\n",
       "<table border=\"1\" class=\"dataframe\">\n",
       "  <thead>\n",
       "    <tr style=\"text-align: right;\">\n",
       "      <th></th>\n",
       "      <th>Start DateTime</th>\n",
       "      <th>End DateTime</th>\n",
       "      <th>Duration</th>\n",
       "    </tr>\n",
       "  </thead>\n",
       "  <tbody>\n",
       "    <tr>\n",
       "      <th>0</th>\n",
       "      <td>2024-11-10 22:36:00</td>\n",
       "      <td>2024-11-11 04:21:00</td>\n",
       "      <td>0 days 05:45:00</td>\n",
       "    </tr>\n",
       "    <tr>\n",
       "      <th>1</th>\n",
       "      <td>2024-11-11 22:42:00</td>\n",
       "      <td>2024-11-12 05:07:00</td>\n",
       "      <td>0 days 06:25:00</td>\n",
       "    </tr>\n",
       "    <tr>\n",
       "      <th>2</th>\n",
       "      <td>2024-11-12 22:30:00</td>\n",
       "      <td>2024-11-13 05:24:00</td>\n",
       "      <td>0 days 06:54:00</td>\n",
       "    </tr>\n",
       "    <tr>\n",
       "      <th>3</th>\n",
       "      <td>2024-11-13 23:24:00</td>\n",
       "      <td>2024-11-14 05:30:00</td>\n",
       "      <td>0 days 06:06:00</td>\n",
       "    </tr>\n",
       "    <tr>\n",
       "      <th>4</th>\n",
       "      <td>2024-11-14 22:40:00</td>\n",
       "      <td>2024-11-15 05:26:00</td>\n",
       "      <td>0 days 06:46:00</td>\n",
       "    </tr>\n",
       "  </tbody>\n",
       "</table>\n",
       "</div>"
      ],
      "text/plain": [
       "       Start DateTime        End DateTime        Duration\n",
       "0 2024-11-10 22:36:00 2024-11-11 04:21:00 0 days 05:45:00\n",
       "1 2024-11-11 22:42:00 2024-11-12 05:07:00 0 days 06:25:00\n",
       "2 2024-11-12 22:30:00 2024-11-13 05:24:00 0 days 06:54:00\n",
       "3 2024-11-13 23:24:00 2024-11-14 05:30:00 0 days 06:06:00\n",
       "4 2024-11-14 22:40:00 2024-11-15 05:26:00 0 days 06:46:00"
      ]
     },
     "execution_count": 32,
     "metadata": {},
     "output_type": "execute_result"
    }
   ],
   "source": [
    "#preview duration, start and  completion time \n",
    "dataset[['Start DateTime', 'End DateTime', 'Duration']].head()"
   ]
  },
  {
   "cell_type": "code",
   "execution_count": 34,
   "id": "1831c7e2-0a43-41c7-951e-df1bca918a35",
   "metadata": {},
   "outputs": [
    {
     "data": {
      "text/html": [
       "<div>\n",
       "<style scoped>\n",
       "    .dataframe tbody tr th:only-of-type {\n",
       "        vertical-align: middle;\n",
       "    }\n",
       "\n",
       "    .dataframe tbody tr th {\n",
       "        vertical-align: top;\n",
       "    }\n",
       "\n",
       "    .dataframe thead th {\n",
       "        text-align: right;\n",
       "    }\n",
       "</style>\n",
       "<table border=\"1\" class=\"dataframe\">\n",
       "  <thead>\n",
       "    <tr style=\"text-align: right;\">\n",
       "      <th></th>\n",
       "      <th>Start DateTime</th>\n",
       "      <th>End DateTime</th>\n",
       "      <th>Duration</th>\n",
       "    </tr>\n",
       "  </thead>\n",
       "  <tbody>\n",
       "    <tr>\n",
       "      <th>0</th>\n",
       "      <td>2024-11-10 22:36:00</td>\n",
       "      <td>2024-11-11 04:21:00</td>\n",
       "      <td>0 days 05:45:00</td>\n",
       "    </tr>\n",
       "    <tr>\n",
       "      <th>1</th>\n",
       "      <td>2024-11-11 22:42:00</td>\n",
       "      <td>2024-11-12 05:07:00</td>\n",
       "      <td>0 days 06:25:00</td>\n",
       "    </tr>\n",
       "    <tr>\n",
       "      <th>2</th>\n",
       "      <td>2024-11-12 22:30:00</td>\n",
       "      <td>2024-11-13 05:24:00</td>\n",
       "      <td>0 days 06:54:00</td>\n",
       "    </tr>\n",
       "    <tr>\n",
       "      <th>3</th>\n",
       "      <td>2024-11-13 23:24:00</td>\n",
       "      <td>2024-11-14 05:30:00</td>\n",
       "      <td>0 days 06:06:00</td>\n",
       "    </tr>\n",
       "    <tr>\n",
       "      <th>4</th>\n",
       "      <td>2024-11-14 22:40:00</td>\n",
       "      <td>2024-11-15 05:26:00</td>\n",
       "      <td>0 days 06:46:00</td>\n",
       "    </tr>\n",
       "  </tbody>\n",
       "</table>\n",
       "</div>"
      ],
      "text/plain": [
       "       Start DateTime        End DateTime        Duration\n",
       "0 2024-11-10 22:36:00 2024-11-11 04:21:00 0 days 05:45:00\n",
       "1 2024-11-11 22:42:00 2024-11-12 05:07:00 0 days 06:25:00\n",
       "2 2024-11-12 22:30:00 2024-11-13 05:24:00 0 days 06:54:00\n",
       "3 2024-11-13 23:24:00 2024-11-14 05:30:00 0 days 06:06:00\n",
       "4 2024-11-14 22:40:00 2024-11-15 05:26:00 0 days 06:46:00"
      ]
     },
     "execution_count": 34,
     "metadata": {},
     "output_type": "execute_result"
    }
   ],
   "source": [
    "dataset[['Start DateTime', 'End DateTime', 'Duration']].head()\n"
   ]
  },
  {
   "cell_type": "code",
   "execution_count": 36,
   "id": "07569c47-859f-4ee7-8aa5-293edb1d388d",
   "metadata": {},
   "outputs": [],
   "source": [
    "#convert duration to hrs and minutes format\n",
    "def format_duration(td):\n",
    "    total_minutes = int(td.total_seconds() // 60)\n",
    "    hours = total_minutes // 60\n",
    "    minutes = total_minutes % 60\n",
    "    return f\"{hours} hrs {minutes} min\"\n",
    "\n",
    "# Apply it to the Duration column\n",
    "dataset['Formatted Duration'] = dataset['Duration'].apply(format_duration)\n"
   ]
  },
  {
   "cell_type": "code",
   "execution_count": 38,
   "id": "32e71773-0a70-4f5a-b146-9d54743b18d0",
   "metadata": {},
   "outputs": [
    {
     "data": {
      "text/html": [
       "<div>\n",
       "<style scoped>\n",
       "    .dataframe tbody tr th:only-of-type {\n",
       "        vertical-align: middle;\n",
       "    }\n",
       "\n",
       "    .dataframe tbody tr th {\n",
       "        vertical-align: top;\n",
       "    }\n",
       "\n",
       "    .dataframe thead th {\n",
       "        text-align: right;\n",
       "    }\n",
       "</style>\n",
       "<table border=\"1\" class=\"dataframe\">\n",
       "  <thead>\n",
       "    <tr style=\"text-align: right;\">\n",
       "      <th></th>\n",
       "      <th>Date</th>\n",
       "      <th>Day</th>\n",
       "      <th>Start Time</th>\n",
       "      <th>Feeling</th>\n",
       "      <th>Music</th>\n",
       "      <th>Genre</th>\n",
       "      <th>Break Duration</th>\n",
       "      <th>Building Condition</th>\n",
       "      <th>Type of Cleaning</th>\n",
       "      <th>Completion Time</th>\n",
       "      <th>Comment</th>\n",
       "      <th>Start DateTime</th>\n",
       "      <th>End DateTime</th>\n",
       "      <th>Duration</th>\n",
       "      <th>Formatted Duration</th>\n",
       "    </tr>\n",
       "  </thead>\n",
       "  <tbody>\n",
       "    <tr>\n",
       "      <th>0</th>\n",
       "      <td>2024-11-10</td>\n",
       "      <td>Sunday Night</td>\n",
       "      <td>10:36:00</td>\n",
       "      <td>Neutral</td>\n",
       "      <td>Yes</td>\n",
       "      <td>Blues</td>\n",
       "      <td>45</td>\n",
       "      <td>Semi-clean</td>\n",
       "      <td>Minimal</td>\n",
       "      <td>04:21:00</td>\n",
       "      <td>Overtime worked</td>\n",
       "      <td>2024-11-10 22:36:00</td>\n",
       "      <td>2024-11-11 04:21:00</td>\n",
       "      <td>0 days 05:45:00</td>\n",
       "      <td>5 hrs 45 min</td>\n",
       "    </tr>\n",
       "    <tr>\n",
       "      <th>1</th>\n",
       "      <td>2024-11-11</td>\n",
       "      <td>Monday night</td>\n",
       "      <td>10:42:00</td>\n",
       "      <td>Tired</td>\n",
       "      <td>Yes</td>\n",
       "      <td>Mixed</td>\n",
       "      <td>45</td>\n",
       "      <td>Dirty</td>\n",
       "      <td>Detailed</td>\n",
       "      <td>05:07:00</td>\n",
       "      <td>NaN</td>\n",
       "      <td>2024-11-11 22:42:00</td>\n",
       "      <td>2024-11-12 05:07:00</td>\n",
       "      <td>0 days 06:25:00</td>\n",
       "      <td>6 hrs 25 min</td>\n",
       "    </tr>\n",
       "    <tr>\n",
       "      <th>2</th>\n",
       "      <td>2024-11-12</td>\n",
       "      <td>Tues night</td>\n",
       "      <td>10:30:00</td>\n",
       "      <td>Tired</td>\n",
       "      <td>No</td>\n",
       "      <td>NaN</td>\n",
       "      <td>30</td>\n",
       "      <td>Dirty</td>\n",
       "      <td>Detailed</td>\n",
       "      <td>05:24:00</td>\n",
       "      <td>NaN</td>\n",
       "      <td>2024-11-12 22:30:00</td>\n",
       "      <td>2024-11-13 05:24:00</td>\n",
       "      <td>0 days 06:54:00</td>\n",
       "      <td>6 hrs 54 min</td>\n",
       "    </tr>\n",
       "  </tbody>\n",
       "</table>\n",
       "</div>"
      ],
      "text/plain": [
       "        Date           Day Start Time  Feeling Music  Genre  Break Duration  \\\n",
       "0 2024-11-10  Sunday Night   10:36:00  Neutral   Yes  Blues              45   \n",
       "1 2024-11-11  Monday night   10:42:00    Tired   Yes  Mixed              45   \n",
       "2 2024-11-12    Tues night   10:30:00    Tired    No    NaN              30   \n",
       "\n",
       "  Building Condition Type of Cleaning Completion Time          Comment  \\\n",
       "0         Semi-clean          Minimal        04:21:00  Overtime worked   \n",
       "1              Dirty         Detailed        05:07:00              NaN   \n",
       "2              Dirty         Detailed        05:24:00              NaN   \n",
       "\n",
       "       Start DateTime        End DateTime        Duration Formatted Duration  \n",
       "0 2024-11-10 22:36:00 2024-11-11 04:21:00 0 days 05:45:00       5 hrs 45 min  \n",
       "1 2024-11-11 22:42:00 2024-11-12 05:07:00 0 days 06:25:00       6 hrs 25 min  \n",
       "2 2024-11-12 22:30:00 2024-11-13 05:24:00 0 days 06:54:00       6 hrs 54 min  "
      ]
     },
     "execution_count": 38,
     "metadata": {},
     "output_type": "execute_result"
    }
   ],
   "source": [
    "dataset.head(3)"
   ]
  },
  {
   "cell_type": "code",
   "execution_count": 40,
   "id": "b5a6796f-9bdf-407d-8eb3-9802e793ec92",
   "metadata": {},
   "outputs": [
    {
     "data": {
      "text/html": [
       "<div>\n",
       "<style scoped>\n",
       "    .dataframe tbody tr th:only-of-type {\n",
       "        vertical-align: middle;\n",
       "    }\n",
       "\n",
       "    .dataframe tbody tr th {\n",
       "        vertical-align: top;\n",
       "    }\n",
       "\n",
       "    .dataframe thead th {\n",
       "        text-align: right;\n",
       "    }\n",
       "</style>\n",
       "<table border=\"1\" class=\"dataframe\">\n",
       "  <thead>\n",
       "    <tr style=\"text-align: right;\">\n",
       "      <th></th>\n",
       "      <th>Date</th>\n",
       "      <th>Day</th>\n",
       "      <th>Start Time</th>\n",
       "      <th>Feeling</th>\n",
       "      <th>Music</th>\n",
       "      <th>Genre</th>\n",
       "      <th>Break Duration</th>\n",
       "      <th>Building Condition</th>\n",
       "      <th>Type of Cleaning</th>\n",
       "      <th>Completion Time</th>\n",
       "      <th>Comment</th>\n",
       "      <th>Start DateTime</th>\n",
       "      <th>End DateTime</th>\n",
       "      <th>Duration</th>\n",
       "      <th>Formatted Duration</th>\n",
       "    </tr>\n",
       "  </thead>\n",
       "  <tbody>\n",
       "    <tr>\n",
       "      <th>0</th>\n",
       "      <td>2024-11-10</td>\n",
       "      <td>Sunday</td>\n",
       "      <td>10:36:00</td>\n",
       "      <td>Neutral</td>\n",
       "      <td>Yes</td>\n",
       "      <td>Blues</td>\n",
       "      <td>45</td>\n",
       "      <td>Semi-clean</td>\n",
       "      <td>Minimal</td>\n",
       "      <td>04:21:00</td>\n",
       "      <td>Overtime worked</td>\n",
       "      <td>2024-11-10 22:36:00</td>\n",
       "      <td>2024-11-11 04:21:00</td>\n",
       "      <td>0 days 05:45:00</td>\n",
       "      <td>5 hrs 45 min</td>\n",
       "    </tr>\n",
       "    <tr>\n",
       "      <th>1</th>\n",
       "      <td>2024-11-11</td>\n",
       "      <td>Monday</td>\n",
       "      <td>10:42:00</td>\n",
       "      <td>Tired</td>\n",
       "      <td>Yes</td>\n",
       "      <td>Mixed</td>\n",
       "      <td>45</td>\n",
       "      <td>Dirty</td>\n",
       "      <td>Detailed</td>\n",
       "      <td>05:07:00</td>\n",
       "      <td>NaN</td>\n",
       "      <td>2024-11-11 22:42:00</td>\n",
       "      <td>2024-11-12 05:07:00</td>\n",
       "      <td>0 days 06:25:00</td>\n",
       "      <td>6 hrs 25 min</td>\n",
       "    </tr>\n",
       "    <tr>\n",
       "      <th>2</th>\n",
       "      <td>2024-11-12</td>\n",
       "      <td>Tuesday</td>\n",
       "      <td>10:30:00</td>\n",
       "      <td>Tired</td>\n",
       "      <td>No</td>\n",
       "      <td>NaN</td>\n",
       "      <td>30</td>\n",
       "      <td>Dirty</td>\n",
       "      <td>Detailed</td>\n",
       "      <td>05:24:00</td>\n",
       "      <td>NaN</td>\n",
       "      <td>2024-11-12 22:30:00</td>\n",
       "      <td>2024-11-13 05:24:00</td>\n",
       "      <td>0 days 06:54:00</td>\n",
       "      <td>6 hrs 54 min</td>\n",
       "    </tr>\n",
       "    <tr>\n",
       "      <th>3</th>\n",
       "      <td>2024-11-13</td>\n",
       "      <td>Wednesday</td>\n",
       "      <td>11:24:00</td>\n",
       "      <td>Tired</td>\n",
       "      <td>Yes</td>\n",
       "      <td>Mixed</td>\n",
       "      <td>45</td>\n",
       "      <td>Dirty</td>\n",
       "      <td>Detail</td>\n",
       "      <td>05:30:00</td>\n",
       "      <td>NaN</td>\n",
       "      <td>2024-11-13 23:24:00</td>\n",
       "      <td>2024-11-14 05:30:00</td>\n",
       "      <td>0 days 06:06:00</td>\n",
       "      <td>6 hrs 6 min</td>\n",
       "    </tr>\n",
       "    <tr>\n",
       "      <th>4</th>\n",
       "      <td>2024-11-14</td>\n",
       "      <td>Thursday</td>\n",
       "      <td>10:40:00</td>\n",
       "      <td>Tired</td>\n",
       "      <td>No</td>\n",
       "      <td>NaN</td>\n",
       "      <td>50</td>\n",
       "      <td>Mild</td>\n",
       "      <td>Detail</td>\n",
       "      <td>05:26:00</td>\n",
       "      <td>NaN</td>\n",
       "      <td>2024-11-14 22:40:00</td>\n",
       "      <td>2024-11-15 05:26:00</td>\n",
       "      <td>0 days 06:46:00</td>\n",
       "      <td>6 hrs 46 min</td>\n",
       "    </tr>\n",
       "  </tbody>\n",
       "</table>\n",
       "</div>"
      ],
      "text/plain": [
       "        Date        Day Start Time  Feeling Music  Genre  Break Duration  \\\n",
       "0 2024-11-10     Sunday   10:36:00  Neutral   Yes  Blues              45   \n",
       "1 2024-11-11     Monday   10:42:00    Tired   Yes  Mixed              45   \n",
       "2 2024-11-12    Tuesday   10:30:00    Tired    No    NaN              30   \n",
       "3 2024-11-13  Wednesday   11:24:00    Tired   Yes  Mixed              45   \n",
       "4 2024-11-14   Thursday   10:40:00    Tired    No    NaN              50   \n",
       "\n",
       "  Building Condition Type of Cleaning Completion Time          Comment  \\\n",
       "0         Semi-clean          Minimal        04:21:00  Overtime worked   \n",
       "1              Dirty         Detailed        05:07:00              NaN   \n",
       "2              Dirty         Detailed        05:24:00              NaN   \n",
       "3              Dirty           Detail        05:30:00              NaN   \n",
       "4               Mild           Detail        05:26:00              NaN   \n",
       "\n",
       "       Start DateTime        End DateTime        Duration Formatted Duration  \n",
       "0 2024-11-10 22:36:00 2024-11-11 04:21:00 0 days 05:45:00       5 hrs 45 min  \n",
       "1 2024-11-11 22:42:00 2024-11-12 05:07:00 0 days 06:25:00       6 hrs 25 min  \n",
       "2 2024-11-12 22:30:00 2024-11-13 05:24:00 0 days 06:54:00       6 hrs 54 min  \n",
       "3 2024-11-13 23:24:00 2024-11-14 05:30:00 0 days 06:06:00        6 hrs 6 min  \n",
       "4 2024-11-14 22:40:00 2024-11-15 05:26:00 0 days 06:46:00       6 hrs 46 min  "
      ]
     },
     "execution_count": 40,
     "metadata": {},
     "output_type": "execute_result"
    }
   ],
   "source": [
    "#convert Day to take the actual day name of date\n",
    "dataset['Day'] = dataset['Date'].dt.day_name()\n",
    "dataset.head()"
   ]
  },
  {
   "cell_type": "code",
   "execution_count": 42,
   "id": "71a0c1a1-f8ea-4df6-80aa-8b5f08d4e8e5",
   "metadata": {},
   "outputs": [],
   "source": [
    "#to visualize average completion time, first create a column to convert duration to minutes\n",
    "\n",
    "dataset['Duration_Mins'] = dataset['Duration'].dt.total_seconds()/60"
   ]
  },
  {
   "cell_type": "code",
   "execution_count": 44,
   "id": "be67222a-ada3-4b1d-ac4b-13e2d5c6d677",
   "metadata": {},
   "outputs": [
    {
     "data": {
      "text/html": [
       "<div>\n",
       "<style scoped>\n",
       "    .dataframe tbody tr th:only-of-type {\n",
       "        vertical-align: middle;\n",
       "    }\n",
       "\n",
       "    .dataframe tbody tr th {\n",
       "        vertical-align: top;\n",
       "    }\n",
       "\n",
       "    .dataframe thead th {\n",
       "        text-align: right;\n",
       "    }\n",
       "</style>\n",
       "<table border=\"1\" class=\"dataframe\">\n",
       "  <thead>\n",
       "    <tr style=\"text-align: right;\">\n",
       "      <th></th>\n",
       "      <th>Date</th>\n",
       "      <th>Day</th>\n",
       "      <th>Start Time</th>\n",
       "      <th>Feeling</th>\n",
       "      <th>Music</th>\n",
       "      <th>Genre</th>\n",
       "      <th>Break Duration</th>\n",
       "      <th>Building Condition</th>\n",
       "      <th>Type of Cleaning</th>\n",
       "      <th>Completion Time</th>\n",
       "      <th>Comment</th>\n",
       "      <th>Start DateTime</th>\n",
       "      <th>End DateTime</th>\n",
       "      <th>Duration</th>\n",
       "      <th>Formatted Duration</th>\n",
       "      <th>Duration_Mins</th>\n",
       "    </tr>\n",
       "  </thead>\n",
       "  <tbody>\n",
       "    <tr>\n",
       "      <th>0</th>\n",
       "      <td>2024-11-10</td>\n",
       "      <td>Sunday</td>\n",
       "      <td>10:36:00</td>\n",
       "      <td>Neutral</td>\n",
       "      <td>Yes</td>\n",
       "      <td>Blues</td>\n",
       "      <td>45</td>\n",
       "      <td>Semi-clean</td>\n",
       "      <td>Minimal</td>\n",
       "      <td>04:21:00</td>\n",
       "      <td>Overtime worked</td>\n",
       "      <td>2024-11-10 22:36:00</td>\n",
       "      <td>2024-11-11 04:21:00</td>\n",
       "      <td>0 days 05:45:00</td>\n",
       "      <td>5 hrs 45 min</td>\n",
       "      <td>345.0</td>\n",
       "    </tr>\n",
       "  </tbody>\n",
       "</table>\n",
       "</div>"
      ],
      "text/plain": [
       "        Date     Day Start Time  Feeling Music  Genre  Break Duration  \\\n",
       "0 2024-11-10  Sunday   10:36:00  Neutral   Yes  Blues              45   \n",
       "\n",
       "  Building Condition Type of Cleaning Completion Time          Comment  \\\n",
       "0         Semi-clean          Minimal        04:21:00  Overtime worked   \n",
       "\n",
       "       Start DateTime        End DateTime        Duration Formatted Duration  \\\n",
       "0 2024-11-10 22:36:00 2024-11-11 04:21:00 0 days 05:45:00       5 hrs 45 min   \n",
       "\n",
       "   Duration_Mins  \n",
       "0          345.0  "
      ]
     },
     "execution_count": 44,
     "metadata": {},
     "output_type": "execute_result"
    }
   ],
   "source": [
    "dataset.head(1)"
   ]
  },
  {
   "cell_type": "code",
   "execution_count": 183,
   "id": "559b4d8a-a442-4d67-bf72-e00075189c6e",
   "metadata": {},
   "outputs": [
    {
     "data": {
      "text/html": [
       "<div>\n",
       "<style scoped>\n",
       "    .dataframe tbody tr th:only-of-type {\n",
       "        vertical-align: middle;\n",
       "    }\n",
       "\n",
       "    .dataframe tbody tr th {\n",
       "        vertical-align: top;\n",
       "    }\n",
       "\n",
       "    .dataframe thead th {\n",
       "        text-align: right;\n",
       "    }\n",
       "</style>\n",
       "<table border=\"1\" class=\"dataframe\">\n",
       "  <thead>\n",
       "    <tr style=\"text-align: right;\">\n",
       "      <th></th>\n",
       "      <th>Date</th>\n",
       "      <th>Day</th>\n",
       "      <th>Start Time</th>\n",
       "      <th>Feeling</th>\n",
       "      <th>Music</th>\n",
       "      <th>Genre</th>\n",
       "      <th>Break Duration</th>\n",
       "      <th>Building Condition</th>\n",
       "      <th>Type of Cleaning</th>\n",
       "      <th>Completion Time</th>\n",
       "      <th>Comment</th>\n",
       "      <th>Start DateTime</th>\n",
       "      <th>End DateTime</th>\n",
       "      <th>Duration</th>\n",
       "      <th>Formatted Duration</th>\n",
       "      <th>Duration_Mins</th>\n",
       "    </tr>\n",
       "  </thead>\n",
       "  <tbody>\n",
       "    <tr>\n",
       "      <th>0</th>\n",
       "      <td>2024-11-10</td>\n",
       "      <td>Sunday</td>\n",
       "      <td>10:36:00</td>\n",
       "      <td>Neutral</td>\n",
       "      <td>Yes</td>\n",
       "      <td>Blues</td>\n",
       "      <td>45</td>\n",
       "      <td>Semi-clean</td>\n",
       "      <td>Minimal</td>\n",
       "      <td>04:21:00</td>\n",
       "      <td>Overtime worked</td>\n",
       "      <td>2024-11-10 22:36:00</td>\n",
       "      <td>2024-11-11 04:21:00</td>\n",
       "      <td>0 days 05:45:00</td>\n",
       "      <td>5 hrs 45 min</td>\n",
       "      <td>345.0</td>\n",
       "    </tr>\n",
       "    <tr>\n",
       "      <th>1</th>\n",
       "      <td>2024-11-11</td>\n",
       "      <td>Monday</td>\n",
       "      <td>10:42:00</td>\n",
       "      <td>Tired</td>\n",
       "      <td>Yes</td>\n",
       "      <td>Mixed</td>\n",
       "      <td>45</td>\n",
       "      <td>Dirty</td>\n",
       "      <td>Detailed</td>\n",
       "      <td>05:07:00</td>\n",
       "      <td>NaN</td>\n",
       "      <td>2024-11-11 22:42:00</td>\n",
       "      <td>2024-11-12 05:07:00</td>\n",
       "      <td>0 days 06:25:00</td>\n",
       "      <td>6 hrs 25 min</td>\n",
       "      <td>385.0</td>\n",
       "    </tr>\n",
       "    <tr>\n",
       "      <th>2</th>\n",
       "      <td>2024-11-12</td>\n",
       "      <td>Tuesday</td>\n",
       "      <td>10:30:00</td>\n",
       "      <td>Tired</td>\n",
       "      <td>No</td>\n",
       "      <td>NaN</td>\n",
       "      <td>30</td>\n",
       "      <td>Dirty</td>\n",
       "      <td>Detailed</td>\n",
       "      <td>05:24:00</td>\n",
       "      <td>NaN</td>\n",
       "      <td>2024-11-12 22:30:00</td>\n",
       "      <td>2024-11-13 05:24:00</td>\n",
       "      <td>0 days 06:54:00</td>\n",
       "      <td>6 hrs 54 min</td>\n",
       "      <td>414.0</td>\n",
       "    </tr>\n",
       "    <tr>\n",
       "      <th>3</th>\n",
       "      <td>2024-11-13</td>\n",
       "      <td>Wednesday</td>\n",
       "      <td>11:24:00</td>\n",
       "      <td>Tired</td>\n",
       "      <td>Yes</td>\n",
       "      <td>Mixed</td>\n",
       "      <td>45</td>\n",
       "      <td>Dirty</td>\n",
       "      <td>Detail</td>\n",
       "      <td>05:30:00</td>\n",
       "      <td>NaN</td>\n",
       "      <td>2024-11-13 23:24:00</td>\n",
       "      <td>2024-11-14 05:30:00</td>\n",
       "      <td>0 days 06:06:00</td>\n",
       "      <td>6 hrs 6 min</td>\n",
       "      <td>366.0</td>\n",
       "    </tr>\n",
       "    <tr>\n",
       "      <th>4</th>\n",
       "      <td>2024-11-14</td>\n",
       "      <td>Thursday</td>\n",
       "      <td>10:40:00</td>\n",
       "      <td>Tired</td>\n",
       "      <td>No</td>\n",
       "      <td>NaN</td>\n",
       "      <td>50</td>\n",
       "      <td>Mild</td>\n",
       "      <td>Detail</td>\n",
       "      <td>05:26:00</td>\n",
       "      <td>NaN</td>\n",
       "      <td>2024-11-14 22:40:00</td>\n",
       "      <td>2024-11-15 05:26:00</td>\n",
       "      <td>0 days 06:46:00</td>\n",
       "      <td>6 hrs 46 min</td>\n",
       "      <td>406.0</td>\n",
       "    </tr>\n",
       "  </tbody>\n",
       "</table>\n",
       "</div>"
      ],
      "text/plain": [
       "        Date        Day Start Time  Feeling Music  Genre  Break Duration  \\\n",
       "0 2024-11-10     Sunday   10:36:00  Neutral   Yes  Blues              45   \n",
       "1 2024-11-11     Monday   10:42:00    Tired   Yes  Mixed              45   \n",
       "2 2024-11-12    Tuesday   10:30:00    Tired    No    NaN              30   \n",
       "3 2024-11-13  Wednesday   11:24:00    Tired   Yes  Mixed              45   \n",
       "4 2024-11-14   Thursday   10:40:00    Tired    No    NaN              50   \n",
       "\n",
       "  Building Condition Type of Cleaning Completion Time          Comment  \\\n",
       "0         Semi-clean          Minimal        04:21:00  Overtime worked   \n",
       "1              Dirty         Detailed        05:07:00              NaN   \n",
       "2              Dirty         Detailed        05:24:00              NaN   \n",
       "3              Dirty           Detail        05:30:00              NaN   \n",
       "4               Mild           Detail        05:26:00              NaN   \n",
       "\n",
       "       Start DateTime        End DateTime        Duration Formatted Duration  \\\n",
       "0 2024-11-10 22:36:00 2024-11-11 04:21:00 0 days 05:45:00       5 hrs 45 min   \n",
       "1 2024-11-11 22:42:00 2024-11-12 05:07:00 0 days 06:25:00       6 hrs 25 min   \n",
       "2 2024-11-12 22:30:00 2024-11-13 05:24:00 0 days 06:54:00       6 hrs 54 min   \n",
       "3 2024-11-13 23:24:00 2024-11-14 05:30:00 0 days 06:06:00        6 hrs 6 min   \n",
       "4 2024-11-14 22:40:00 2024-11-15 05:26:00 0 days 06:46:00       6 hrs 46 min   \n",
       "\n",
       "   Duration_Mins  \n",
       "0          345.0  \n",
       "1          385.0  \n",
       "2          414.0  \n",
       "3          366.0  \n",
       "4          406.0  "
      ]
     },
     "execution_count": 183,
     "metadata": {},
     "output_type": "execute_result"
    }
   ],
   "source": [
    "dataset.head()"
   ]
  },
  {
   "cell_type": "code",
   "execution_count": 46,
   "id": "c0e25a80-faba-4ceb-8bbc-a4526d9bf6f8",
   "metadata": {},
   "outputs": [
    {
     "name": "stdout",
     "output_type": "stream",
     "text": [
      "349.90909090909093\n"
     ]
    }
   ],
   "source": [
    "#display average value when music was played\n",
    "avg_with_music = dataset[dataset['Music'] == \"Yes\"]['Duration_Mins'].mean()\n",
    "print(avg_with_music)"
   ]
  },
  {
   "cell_type": "code",
   "execution_count": 48,
   "id": "160a943b-e782-46f1-932a-a254461bc432",
   "metadata": {},
   "outputs": [
    {
     "name": "stdout",
     "output_type": "stream",
     "text": [
      "368.0\n"
     ]
    }
   ],
   "source": [
    "#display average value when music was not played\n",
    "avg_without_music = dataset[dataset['Music'] == \"No\"]['Duration_Mins'].mean()\n",
    "print(avg_without_music)"
   ]
  },
  {
   "cell_type": "code",
   "execution_count": 50,
   "id": "ef90a6de-94eb-49a8-8ffe-50863a05e752",
   "metadata": {},
   "outputs": [
    {
     "name": "stdout",
     "output_type": "stream",
     "text": [
      "-18.090909090909065\n"
     ]
    }
   ],
   "source": [
    "#cacluate the difference between the two averages \n",
    "time_difference = avg_with_music - avg_without_music\n",
    "print(time_difference)"
   ]
  },
  {
   "cell_type": "code",
   "execution_count": 52,
   "id": "9b42280e-132a-432f-afdd-615353609f94",
   "metadata": {},
   "outputs": [
    {
     "name": "stdout",
     "output_type": "stream",
     "text": [
      "['With Music', 'Without Music'] [349.90909090909093, 368.0]\n"
     ]
    }
   ],
   "source": [
    "#display average difference for with music and wwithout music categories \n",
    "labels = [\"With Music\", \"Without Music\"]\n",
    "values = [avg_with_music, avg_without_music]\n",
    "print(labels, values)"
   ]
  },
  {
   "cell_type": "code",
   "execution_count": 54,
   "id": "1dc43a26-c3d9-4a12-9da5-46beb9c5d6a2",
   "metadata": {},
   "outputs": [
    {
     "name": "stdout",
     "output_type": "stream",
     "text": [
      "        Category      Values\n",
      "0     With Music  349.909091\n",
      "1  Without Music  368.000000\n"
     ]
    }
   ],
   "source": [
    "#display average result in a table for better visual\n",
    "import pandas as pd\n",
    "avg_result = pd.DataFrame({\n",
    "    'Category' : labels,\n",
    "    'Values' : values})\n",
    "print(avg_result)"
   ]
  },
  {
   "cell_type": "code",
   "execution_count": 195,
   "id": "65f42ad0-9c0b-48d8-bd47-a6075f7617cc",
   "metadata": {},
   "outputs": [
    {
     "name": "stderr",
     "output_type": "stream",
     "text": [
      "C:\\Users\\Maureen Michael\\AppData\\Local\\Temp\\ipykernel_19512\\1986539435.py:2: FutureWarning: \n",
      "\n",
      "Passing `palette` without assigning `hue` is deprecated and will be removed in v0.14.0. Assign the `x` variable to `hue` and set `legend=False` for the same effect.\n",
      "\n",
      "  sns.barplot(x = 'Category', y = 'Values', data = avg_result, palette =\n"
     ]
    },
    {
     "data": {
      "image/png": "[encoded data removed]",
      "text/plain": [
       "<Figure size 640x480 with 1 Axes>"
      ]
     },
     "metadata": {},
     "output_type": "display_data"
    }
   ],
   "source": [
    "#plot a barchart to show avg_result\n",
    "sns.barplot(x = 'Category', y = 'Values', data = avg_result, palette =\n",
    "           {'With Music': 'Green', 'Without Music':'Orange'})\n",
    "plt.show()"
   ]
  },
  {
   "cell_type": "code",
   "execution_count": 56,
   "id": "fbbdfe97-ad10-4230-b5ee-3f77883126f1",
   "metadata": {},
   "outputs": [
    {
     "data": {
      "text/html": [
       "<div>\n",
       "<style scoped>\n",
       "    .dataframe tbody tr th:only-of-type {\n",
       "        vertical-align: middle;\n",
       "    }\n",
       "\n",
       "    .dataframe tbody tr th {\n",
       "        vertical-align: top;\n",
       "    }\n",
       "\n",
       "    .dataframe thead th {\n",
       "        text-align: right;\n",
       "    }\n",
       "</style>\n",
       "<table border=\"1\" class=\"dataframe\">\n",
       "  <thead>\n",
       "    <tr style=\"text-align: right;\">\n",
       "      <th></th>\n",
       "      <th>Date</th>\n",
       "      <th>Result</th>\n",
       "    </tr>\n",
       "  </thead>\n",
       "  <tbody>\n",
       "    <tr>\n",
       "      <th>0</th>\n",
       "      <td>Earliest Completion</td>\n",
       "      <td>2024-11-11 04:21:00</td>\n",
       "    </tr>\n",
       "    <tr>\n",
       "      <th>1</th>\n",
       "      <td>Latest Completion</td>\n",
       "      <td>2025-01-14 05:00:00</td>\n",
       "    </tr>\n",
       "  </tbody>\n",
       "</table>\n",
       "</div>"
      ],
      "text/plain": [
       "                  Date              Result\n",
       "0  Earliest Completion 2024-11-11 04:21:00\n",
       "1    Latest Completion 2025-01-14 05:00:00"
      ]
     },
     "execution_count": 56,
     "metadata": {},
     "output_type": "execute_result"
    }
   ],
   "source": [
    "# display earliest  and latest completion date\n",
    "\n",
    "earliest_completion = dataset['End DateTime'].min()\n",
    "latest_completion = dataset['End DateTime'].max()\n",
    "\n",
    "date = ['Earliest Completion', 'Latest Completion']\n",
    "result = [earliest_completion, latest_completion]\n",
    "\n",
    "#put result in a  dataframe\n",
    "\n",
    "completion_diff = pd.DataFrame({\n",
    "    'Date': date,\n",
    "    'Result': result})\n",
    "completion_diff.head()"
   ]
  },
  {
   "cell_type": "code",
   "execution_count": 58,
   "id": "9b06b986-cc35-4c42-ae84-3d2c029811e3",
   "metadata": {},
   "outputs": [
    {
     "data": {
      "text/html": [
       "<div>\n",
       "<style scoped>\n",
       "    .dataframe tbody tr th:only-of-type {\n",
       "        vertical-align: middle;\n",
       "    }\n",
       "\n",
       "    .dataframe tbody tr th {\n",
       "        vertical-align: top;\n",
       "    }\n",
       "\n",
       "    .dataframe thead th {\n",
       "        text-align: right;\n",
       "    }\n",
       "</style>\n",
       "<table border=\"1\" class=\"dataframe\">\n",
       "  <thead>\n",
       "    <tr style=\"text-align: right;\">\n",
       "      <th></th>\n",
       "      <th>Type</th>\n",
       "      <th>Time</th>\n",
       "      <th>Date</th>\n",
       "    </tr>\n",
       "  </thead>\n",
       "  <tbody>\n",
       "    <tr>\n",
       "      <th>0</th>\n",
       "      <td>Earliest Completion</td>\n",
       "      <td>03:40:00</td>\n",
       "      <td>2024-12-16</td>\n",
       "    </tr>\n",
       "    <tr>\n",
       "      <th>1</th>\n",
       "      <td>Latest Completion</td>\n",
       "      <td>05:30:00</td>\n",
       "      <td>2024-11-13</td>\n",
       "    </tr>\n",
       "  </tbody>\n",
       "</table>\n",
       "</div>"
      ],
      "text/plain": [
       "                  Type      Time       Date\n",
       "0  Earliest Completion  03:40:00 2024-12-16\n",
       "1    Latest Completion  05:30:00 2024-11-13"
      ]
     },
     "execution_count": 58,
     "metadata": {},
     "output_type": "execute_result"
    }
   ],
   "source": [
    "#using completion column to get earliest and latest time of work work completion\n",
    "#get earliest and it row\n",
    "earliest_comp = dataset['Completion Time'].min()\n",
    "earliest_date = dataset.loc[dataset['Completion Time'] == earliest_comp, 'Date'].iloc[0]\n",
    "\n",
    "#get latest and row\n",
    "latest_comp = dataset['Completion Time'].max()\n",
    "latest_date = dataset.loc[dataset['Completion Time'] == latest_comp, 'Date'].iloc[0]\n",
    "\n",
    "#create list for the times\n",
    "completion_type = ['Earliest Completion', 'Latest Completion']\n",
    "time = [earliest_comp, latest_comp]\n",
    "date = [earliest_date, latest_date]\n",
    "\n",
    "#create a dataframe to hold the result\n",
    "completion_time = pd.DataFrame({\n",
    "    'Type': completion_type,\n",
    "    'Time': time,\n",
    "    'Date': date})\n",
    "completion_time.head()"
   ]
  },
  {
   "cell_type": "code",
   "execution_count": 201,
   "id": "bc6306a0-1cf1-4e59-875d-52d094c025f6",
   "metadata": {},
   "outputs": [
    {
     "data": {
      "image/png": "[encoded data removed]",
      "text/plain": [
       "<Figure size 640x480 with 1 Axes>"
      ]
     },
     "metadata": {},
     "output_type": "display_data"
    }
   ],
   "source": [
    "#plot a line graph for Date and Duration_Mins to understand work completion time trend overtime \n",
    "dataset = dataset.sort_values('Date')\n",
    "sns.lineplot(x = 'Date', y = 'Duration_Mins', data = dataset)\n",
    "plt.xticks(rotation =  45)\n",
    "plt.title('Work Duration Over Time')\n",
    "plt.xlabel('Date')\n",
    "plt.ylabel('Duration in Minutes')\n",
    "plt.show()"
   ]
  },
  {
   "cell_type": "code",
   "execution_count": 60,
   "id": "cbdb3739-e35e-4513-b798-de82702b3c80",
   "metadata": {},
   "outputs": [
    {
     "data": {
      "image/png": "[encoded data removed]",
      "text/plain": [
       "<Figure size 640x480 with 1 Axes>"
      ]
     },
     "metadata": {},
     "output_type": "display_data"
    }
   ],
   "source": [
    "#explore music impact on work completion\n",
    "# first sort by date\n",
    "dataset = dataset.sort_values('Date')\n",
    "#plot line graph\n",
    "sns.lineplot(x = 'Date', y = 'Duration_Mins', hue = 'Music', data = dataset)\n",
    "plt.xticks(rotation = 45)\n",
    "plt.title('Impact of Music on Work Duration')\n",
    "plt.xlabel('Date')\n",
    "plt.ylabel('Duration in Minutes')\n",
    "\n",
    "plt.show()"
   ]
  },
  {
   "cell_type": "code",
   "execution_count": 62,
   "id": "cc873632-5f10-4fce-afbf-05f4dee308d4",
   "metadata": {},
   "outputs": [
    {
     "name": "stdout",
     "output_type": "stream",
     "text": [
      "          Day Start Time          Feeling Music Completion Time\n",
      "0      Sunday   10:36:00          Neutral   Yes        04:21:00\n",
      "6      Monday   11:40:00          Neutral   Yes        04:56:00\n",
      "7     Tuesday   11:33:00          Neutral   Yes        04:38:00\n",
      "8   Wednesday   10:35:00          Neutral    No        04:45:00\n",
      "14   Thursday   10:49:00            Tired   Yes        04:20:00\n",
      "18  Wednesday   10:29:00          Neutral   Yes        03:55:00\n",
      "19   Thursday   10:29:00            Tired    No        04:30:00\n",
      "20     Sunday   10:45:00            Tired    No        04:45:00\n",
      "22    Tuesday   10:33:00  Extremely Tired    No        03:50:00\n",
      "23  Wednesday   10:25:00          Neutral    No        03:45:00\n",
      "24   Thursday   10:30:00          Neutral   Yes        03:45:00\n",
      "25     Sunday   10:42:00          Neutral   Yes        04:10:00\n",
      "26     Monday   10:55:00          Neutral   Yes        03:40:00\n",
      "27    Tuesday   10:38:00          Neutral    No        04:30:00\n",
      "28  Wednesday   10:34:00          Neutral   Yes        03:40:00\n",
      "30     Monday   10:43:00          Neutral   Yes        04:40:00\n",
      "31    Tuesday   10:24:00          Neutral   Yes        04:10:00\n",
      "32  Wednesday   10:30:00          Neutral    No        04:30:00\n",
      "33   Thursday   10:31:00            Tired   Yes        04:00:00\n",
      "34     Sunday   10:34:00            Tired   Yes        03:50:00\n"
     ]
    }
   ],
   "source": [
    "# find out the day of the week with the highest count of earliest completion time\n",
    "earliest_times =  dataset[dataset['Completion Time'] < pd.to_datetime('05:00:00').time()]\n",
    "#select few columns to display the output of earliest times and features \n",
    "print(earliest_times[['Day', 'Start Time', 'Feeling', 'Music', 'Completion Time']])"
   ]
  },
  {
   "cell_type": "code",
   "execution_count": 64,
   "id": "fe339cf1-ca8e-4e01-8c5a-69b62f9aa318",
   "metadata": {},
   "outputs": [
    {
     "name": "stdout",
     "output_type": "stream",
     "text": [
      "Day\n",
      "Wednesday    5\n",
      "Sunday       4\n",
      "Tuesday      4\n",
      "Thursday     4\n",
      "Monday       3\n",
      "Name: count, dtype: int64\n"
     ]
    }
   ],
   "source": [
    "#show days of earliest and latest times and their counts in a dataframe\n",
    "#earliest days\n",
    "early_days_count = earliest_times['Day'].value_counts()\n",
    "print(early_days_count)"
   ]
  },
  {
   "cell_type": "code",
   "execution_count": null,
   "id": "e40546c9-e609-467d-9761-258510faf69f",
   "metadata": {},
   "outputs": [],
   "source": []
  },
  {
   "cell_type": "code",
   "execution_count": 66,
   "id": "1c50ae7a-386c-43bd-a811-8a4cc94ebc3c",
   "metadata": {},
   "outputs": [
    {
     "name": "stdout",
     "output_type": "stream",
     "text": [
      "          Day Start Time    Feeling Music Completion Time\n",
      "1      Monday   10:42:00      Tired   Yes        05:07:00\n",
      "2     Tuesday   10:30:00      Tired    No        05:24:00\n",
      "3   Wednesday   11:24:00      Tired   Yes        05:30:00\n",
      "4    Thursday   10:40:00      Tired    No        05:26:00\n",
      "5      Sunday   10:40:00      Tired   Yes        05:20:00\n",
      "9    Thursday   10:33:00      Tired    No        05:10:00\n",
      "10     Sunday   10:37:00  Energetic   Yes        05:15:00\n",
      "11     Monday   10:51:00      Tired    No        05:10:00\n",
      "12    Tuesday   10:22:00      Tired   Yes        05:10:00\n",
      "15     Sunday   11:12:00    Neutral   Yes        05:10:00\n",
      "16     Monday   10:38:00    Neutral   Yes        05:10:00\n",
      "17    Tuesday   10:35:00      Tired    No        05:20:00\n",
      "29     Sunday   10:43:00    Neutral   Yes        05:20:00\n"
     ]
    }
   ],
   "source": [
    "#show latest times\n",
    "latest_times =  dataset[dataset['Completion Time']  > pd.to_datetime('05:00:00').time()]\n",
    "\n",
    "#display latest time and some impactful features\n",
    "print(latest_times[['Day', 'Start Time', 'Feeling', 'Music', 'Completion Time']])"
   ]
  },
  {
   "cell_type": "code",
   "execution_count": 68,
   "id": "b6c5710d-f5af-4f51-a9a7-2556366ec04d",
   "metadata": {},
   "outputs": [
    {
     "name": "stdout",
     "output_type": "stream",
     "text": [
      "Day\n",
      "Sunday       4\n",
      "Monday       3\n",
      "Tuesday      3\n",
      "Thursday     2\n",
      "Wednesday    1\n",
      "Name: count, dtype: int64\n"
     ]
    }
   ],
   "source": [
    "#latest days\n",
    "late_days_count = latest_times['Day'].value_counts()\n",
    "print(late_days_count)"
   ]
  },
  {
   "cell_type": "code",
   "execution_count": 70,
   "id": "9c0f4d9d-87fd-4bec-8fa7-22aff7d67aff",
   "metadata": {},
   "outputs": [],
   "source": [
    "from datetime import time\n",
    "\n",
    "def mins_to_time(minutes):\n",
    "    h = int(minutes // 60)\n",
    "    m = int(minutes % 60)\n",
    "    return time(h, m).strftime(\"%I:%M %p\")\n"
   ]
  },
  {
   "cell_type": "code",
   "execution_count": 72,
   "id": "7c731fe7-56fa-498e-916d-e07fb716589e",
   "metadata": {},
   "outputs": [
    {
     "data": {
      "text/html": [
       "<div>\n",
       "<style scoped>\n",
       "    .dataframe tbody tr th:only-of-type {\n",
       "        vertical-align: middle;\n",
       "    }\n",
       "\n",
       "    .dataframe tbody tr th {\n",
       "        vertical-align: top;\n",
       "    }\n",
       "\n",
       "    .dataframe thead th {\n",
       "        text-align: right;\n",
       "    }\n",
       "</style>\n",
       "<table border=\"1\" class=\"dataframe\">\n",
       "  <thead>\n",
       "    <tr style=\"text-align: right;\">\n",
       "      <th></th>\n",
       "      <th>Day</th>\n",
       "      <th>Feeling</th>\n",
       "      <th>Average Break Taken</th>\n",
       "      <th>Building  Condition</th>\n",
       "      <th>Cleaning Type</th>\n",
       "      <th>Average Start Time</th>\n",
       "      <th>Music</th>\n",
       "    </tr>\n",
       "  </thead>\n",
       "  <tbody>\n",
       "    <tr>\n",
       "      <th>0</th>\n",
       "      <td>Wednesday</td>\n",
       "      <td>Neutral</td>\n",
       "      <td>55.714286</td>\n",
       "      <td>Mild</td>\n",
       "      <td>Minimal</td>\n",
       "      <td>10:38 PM</td>\n",
       "      <td>Yes</td>\n",
       "    </tr>\n",
       "    <tr>\n",
       "      <th>1</th>\n",
       "      <td>Sunday</td>\n",
       "      <td>Neutral</td>\n",
       "      <td>50.250000</td>\n",
       "      <td>Mild</td>\n",
       "      <td>Minimal</td>\n",
       "      <td>10:43 PM</td>\n",
       "      <td>Yes</td>\n",
       "    </tr>\n",
       "  </tbody>\n",
       "</table>\n",
       "</div>"
      ],
      "text/plain": [
       "         Day  Feeling  Average Break Taken Building  Condition Cleaning Type  \\\n",
       "0  Wednesday  Neutral            55.714286                Mild       Minimal   \n",
       "1     Sunday  Neutral            50.250000                Mild       Minimal   \n",
       "\n",
       "  Average Start Time Music  \n",
       "0           10:38 PM   Yes  \n",
       "1           10:43 PM   Yes  "
      ]
     },
     "execution_count": 72,
     "metadata": {},
     "output_type": "execute_result"
    }
   ],
   "source": [
    "#what makes wednesday earliest and Sunday latest\n",
    "wednesdays = dataset[dataset['Day'] == 'Wednesday']\n",
    "sundays = dataset[dataset['Day'] == 'Sunday']\n",
    "\n",
    "#explore feelings impact\n",
    "weds_feeling = wednesdays['Feeling'].value_counts().idxmax()\n",
    "sun_feeling = sundays['Feeling'].value_counts().idxmax()\n",
    "\n",
    "#average break duration for each day\n",
    "weds_avg_break = wednesdays['Break Duration'].mean()\n",
    "sun_avg_break = sundays['Break Duration'].mean()\n",
    "#days list\n",
    "days  = ['Wednesday', 'Sunday']\n",
    "#list of  feeling result\n",
    "feelings = [weds_feeling, sun_feeling]\n",
    "\n",
    "#list of break duration average\n",
    "avg_brk = [weds_avg_break, sun_avg_break]\n",
    "\n",
    "\n",
    "#I figured that both days have the same dominant feeling which is neutral, and more breaks are taken on Wedsnesday, let's explore more factors\n",
    "#explore  building condition\n",
    "weds_building_con = wednesdays['Building Condition'].value_counts().idxmax()\n",
    "sun_building_con = sundays['Building Condition'].value_counts().idxmax()\n",
    "\n",
    "#building condition list\n",
    "building_con = [weds_building_con, sun_building_con]\n",
    "\n",
    "#exploring type of cleaning \n",
    "weds_cleaning = wednesdays['Type of Cleaning'].value_counts().idxmax()\n",
    "sun_cleaning = sundays['Type of Cleaning'].value_counts().idxmax()\n",
    "#list of cleaning type\n",
    "cleaning_type = [weds_cleaning, sun_cleaning]\n",
    "#explore music\n",
    "\n",
    "\n",
    "#explore  start time\n",
    "weds_avg_start = wednesdays['Start Time'].apply(lambda t: (t.hour + 12) * 60 + t.minute).mean()\n",
    "sun_avg_start = sundays['Start Time'].apply(lambda t: (t.hour + 12) * 60 + t.minute).mean()\n",
    "\n",
    "#start time result list\n",
    "#start_time = [weds_avg_start, sun_avg_start]\n",
    "start_time = [mins_to_time(weds_avg_start), mins_to_time(sun_avg_start)]\n",
    "\n",
    "#explore music \n",
    "weds_music = wednesdays['Music'].value_counts().idxmax()\n",
    "sun_music = sundays['Music'].value_counts().idxmax()\n",
    "\n",
    "#music list\n",
    "music = [weds_music, sun_music]\n",
    "#put result in a dataframe\n",
    "influencers = pd.DataFrame({\n",
    "    'Day' : days,\n",
    "    'Feeling' : feelings,\n",
    "    'Average Break Taken': avg_brk,\n",
    "    'Building  Condition': building_con,\n",
    "    'Cleaning Type': cleaning_type,\n",
    "    'Average Start Time': start_time,\n",
    "    'Music': music\n",
    "})\n",
    "influencers.head()"
   ]
  },
  {
   "cell_type": "code",
   "execution_count": 74,
   "id": "52937da2-b18c-4936-a014-202ffe06e04c",
   "metadata": {},
   "outputs": [
    {
     "name": "stdout",
     "output_type": "stream",
     "text": [
      "Sunday\n"
     ]
    }
   ],
   "source": [
    "#which day of the week was music played the most\n",
    "day_with_most_music = dataset[dataset['Music'] == 'Yes']\n",
    "most_music_day = day_with_most_music['Day'].value_counts().idxmax()\n",
    "print(most_music_day)"
   ]
  },
  {
   "cell_type": "code",
   "execution_count": 76,
   "id": "9cf0796e-62c3-4735-b3bd-37c0f1748daf",
   "metadata": {},
   "outputs": [
    {
     "name": "stdout",
     "output_type": "stream",
     "text": [
      "Day\n",
      "Sunday       7\n",
      "Monday       5\n",
      "Wednesday    4\n",
      "Tuesday      3\n",
      "Thursday     3\n",
      "Name: count, dtype: int64\n"
     ]
    }
   ],
   "source": [
    "#count of how many times music was played in each day of the week\n",
    "print(day_with_most_music['Day'].value_counts())\n"
   ]
  },
  {
   "cell_type": "code",
   "execution_count": 78,
   "id": "8c4319fd-408e-4987-88e5-32bbbd162886",
   "metadata": {},
   "outputs": [
    {
     "data": {
      "text/html": [
       "<div>\n",
       "<style scoped>\n",
       "    .dataframe tbody tr th:only-of-type {\n",
       "        vertical-align: middle;\n",
       "    }\n",
       "\n",
       "    .dataframe tbody tr th {\n",
       "        vertical-align: top;\n",
       "    }\n",
       "\n",
       "    .dataframe thead th {\n",
       "        text-align: right;\n",
       "    }\n",
       "</style>\n",
       "<table border=\"1\" class=\"dataframe\">\n",
       "  <thead>\n",
       "    <tr style=\"text-align: right;\">\n",
       "      <th></th>\n",
       "      <th>Date</th>\n",
       "      <th>Day</th>\n",
       "      <th>Start Time</th>\n",
       "      <th>Feeling</th>\n",
       "      <th>Music</th>\n",
       "      <th>Genre</th>\n",
       "      <th>Break Duration</th>\n",
       "      <th>Building Condition</th>\n",
       "      <th>Type of Cleaning</th>\n",
       "      <th>Completion Time</th>\n",
       "      <th>Comment</th>\n",
       "      <th>Start DateTime</th>\n",
       "      <th>End DateTime</th>\n",
       "      <th>Duration</th>\n",
       "      <th>Formatted Duration</th>\n",
       "      <th>Duration_Mins</th>\n",
       "      <th>StartTime_Mins</th>\n",
       "    </tr>\n",
       "  </thead>\n",
       "  <tbody>\n",
       "    <tr>\n",
       "      <th>0</th>\n",
       "      <td>2024-11-10</td>\n",
       "      <td>Sunday</td>\n",
       "      <td>10:36:00</td>\n",
       "      <td>Neutral</td>\n",
       "      <td>Yes</td>\n",
       "      <td>Blues</td>\n",
       "      <td>45</td>\n",
       "      <td>Semi-clean</td>\n",
       "      <td>Minimal</td>\n",
       "      <td>04:21:00</td>\n",
       "      <td>Overtime worked</td>\n",
       "      <td>2024-11-10 22:36:00</td>\n",
       "      <td>2024-11-11 04:21:00</td>\n",
       "      <td>0 days 05:45:00</td>\n",
       "      <td>5 hrs 45 min</td>\n",
       "      <td>345.0</td>\n",
       "      <td>1356</td>\n",
       "    </tr>\n",
       "  </tbody>\n",
       "</table>\n",
       "</div>"
      ],
      "text/plain": [
       "        Date     Day Start Time  Feeling Music  Genre  Break Duration  \\\n",
       "0 2024-11-10  Sunday   10:36:00  Neutral   Yes  Blues              45   \n",
       "\n",
       "  Building Condition Type of Cleaning Completion Time          Comment  \\\n",
       "0         Semi-clean          Minimal        04:21:00  Overtime worked   \n",
       "\n",
       "       Start DateTime        End DateTime        Duration Formatted Duration  \\\n",
       "0 2024-11-10 22:36:00 2024-11-11 04:21:00 0 days 05:45:00       5 hrs 45 min   \n",
       "\n",
       "   Duration_Mins  StartTime_Mins  \n",
       "0          345.0            1356  "
      ]
     },
     "execution_count": 78,
     "metadata": {},
     "output_type": "execute_result"
    }
   ],
   "source": [
    "#create a new column to convert start time to mins for easy data manipulation \n",
    "dataset['StartTime_Mins'] = dataset['Start Time'].apply(lambda t: (t.hour + 12) * 60 + t.minute)\n",
    "dataset.head(1)"
   ]
  },
  {
   "cell_type": "code",
   "execution_count": 80,
   "id": "5ec7aad5-6e4e-4d40-a1db-7c7a6a7fdfb0",
   "metadata": {},
   "outputs": [
    {
     "name": "stdout",
     "output_type": "stream",
     "text": [
      "Building Condition_Dirty - Winter Salt    25.139180\n",
      "Type of Cleaning_Detailed                 23.824276\n",
      "Type of Cleaning_Detail - full mopping    19.380066\n",
      "Building Condition_Semi-clean             15.261946\n",
      "Break Duration                             1.121698\n",
      "StartTime_Mins                            -0.522436\n",
      "Feeling_Tired                             -8.004016\n",
      "Music_Yes                                 -9.574051\n",
      "Building Condition_Mild                  -14.994972\n",
      "Type of Cleaning_Mild                    -20.925230\n",
      "Type of Cleaning_Minimal                 -26.950655\n",
      "Feeling_Neutral                          -30.616744\n",
      "Feeling_Extremely Tired                  -41.744581\n",
      "dtype: float64\n"
     ]
    }
   ],
   "source": [
    "#building multi-regression model to understand the entire feature impact on wor duration\n",
    "\n",
    "#select features  and target\n",
    "features = ['Music', 'Feeling', 'Break Duration', 'StartTime_Mins', 'Building Condition', 'Type of Cleaning']\n",
    "target = 'Duration_Mins'\n",
    "#convert categorical values into numbers\n",
    "x = pd.get_dummies(dataset[features], drop_first = True)\n",
    "y = dataset[target]\n",
    "\n",
    "#import regression model and train it\n",
    "\n",
    "from sklearn.linear_model  import LinearRegression\n",
    "model = LinearRegression()\n",
    "model.fit(x,y)\n",
    "\n",
    "#extract the coefficients \n",
    "\n",
    "coef = pd.Series(model.coef_, index= x.columns)\n",
    "print(coef.sort_values(ascending=False))"
   ]
  },
  {
   "cell_type": "code",
   "execution_count": 82,
   "id": "87686560-049b-41f8-8575-02a0d9c449ce",
   "metadata": {},
   "outputs": [
    {
     "name": "stdout",
     "output_type": "stream",
     "text": [
      "Number of 'Extremely Tired' days: 1\n"
     ]
    },
    {
     "data": {
      "text/html": [
       "<div>\n",
       "<style scoped>\n",
       "    .dataframe tbody tr th:only-of-type {\n",
       "        vertical-align: middle;\n",
       "    }\n",
       "\n",
       "    .dataframe tbody tr th {\n",
       "        vertical-align: top;\n",
       "    }\n",
       "\n",
       "    .dataframe thead th {\n",
       "        text-align: right;\n",
       "    }\n",
       "</style>\n",
       "<table border=\"1\" class=\"dataframe\">\n",
       "  <thead>\n",
       "    <tr style=\"text-align: right;\">\n",
       "      <th></th>\n",
       "      <th>Duration_Mins</th>\n",
       "      <th>Type of Cleaning</th>\n",
       "      <th>Building Condition</th>\n",
       "      <th>Music</th>\n",
       "      <th>Break Duration</th>\n",
       "      <th>Start Time</th>\n",
       "    </tr>\n",
       "  </thead>\n",
       "  <tbody>\n",
       "    <tr>\n",
       "      <th>22</th>\n",
       "      <td>317.0</td>\n",
       "      <td>Minimal</td>\n",
       "      <td>Mild</td>\n",
       "      <td>No</td>\n",
       "      <td>47</td>\n",
       "      <td>10:33:00</td>\n",
       "    </tr>\n",
       "  </tbody>\n",
       "</table>\n",
       "</div>"
      ],
      "text/plain": [
       "    Duration_Mins Type of Cleaning Building Condition Music  Break Duration  \\\n",
       "22          317.0          Minimal               Mild    No              47   \n",
       "\n",
       "   Start Time  \n",
       "22   10:33:00  "
      ]
     },
     "execution_count": 82,
     "metadata": {},
     "output_type": "execute_result"
    }
   ],
   "source": [
    "#why is aprox. 42mins saved during extremely tired days\n",
    "\n",
    "ext_tired_days = dataset[dataset['Feeling'] == 'Extremely Tired']\n",
    "print(f\"Number of 'Extremely Tired' days: {len(ext_tired_days)}\")\n",
    "ext_tired_days[['Duration_Mins', 'Type of Cleaning', 'Building Condition', 'Music', 'Break Duration', 'Start Time']]\n"
   ]
  },
  {
   "cell_type": "code",
   "execution_count": 230,
   "id": "628c1b13-3156-4d9b-8728-d300b66bce01",
   "metadata": {},
   "outputs": [
    {
     "name": "stderr",
     "output_type": "stream",
     "text": [
      "C:\\Users\\Maureen Michael\\AppData\\Local\\Temp\\ipykernel_11764\\1204047835.py:8: FutureWarning: \n",
      "\n",
      "Passing `palette` without assigning `hue` is deprecated and will be removed in v0.14.0. Assign the `y` variable to `hue` and set `legend=False` for the same effect.\n",
      "\n",
      "  sns.barplot(x =  coef_sorted.values, y = coef_sorted.index, palette = 'coolwarm')\n"
     ]
    },
    {
     "data": {
      "image/png": "[encoded data removed]",
      "text/plain": [
       "<Figure size 1000x600 with 1 Axes>"
      ]
     },
     "metadata": {},
     "output_type": "display_data"
    }
   ],
   "source": [
    "#plot a barchart to show coefficient against work duration\n",
    "\n",
    "#first sort coefficient by absolute value\n",
    "coef_sorted = coef.reindex(coef.abs().sort_values(ascending=True).index)\n",
    "\n",
    "#plot graph using seaborn\n",
    "plt.figure(figsize=(10, 6))\n",
    "sns.barplot(x =  coef_sorted.values, y = coef_sorted.index, palette = 'coolwarm')\n",
    "plt.title('Impact of Features on Work Duration (in Minutes)')\n",
    "plt.xlabel('Effect on Duration')\n",
    "plt.ylabel('Features')\n",
    "plt.axvline(0, color='black', linewidth=1)  # Zero line for visual balance\n",
    "plt.tight_layout()\n",
    "plt.show()\n"
   ]
  },
  {
   "cell_type": "code",
   "execution_count": 86,
   "id": "e8c0a2a0-58e9-449e-a525-42e80b093db9",
   "metadata": {},
   "outputs": [
    {
     "name": "stdout",
     "output_type": "stream",
     "text": [
      "Break Duration                            0.299740\n",
      "StartTime_Mins                            0.260849\n",
      "Building Condition_Mild                   0.170381\n",
      "Type of Cleaning_Minimal                  0.090539\n",
      "Feeling_Tired                             0.064517\n",
      "Feeling_Neutral                           0.056207\n",
      "Music_Yes                                 0.026339\n",
      "Type of Cleaning_Detailed                 0.012691\n",
      "Type of Cleaning_Mild                     0.010072\n",
      "Building Condition_Semi-clean             0.006490\n",
      "Feeling_Extremely Tired                   0.001102\n",
      "Building Condition_Dirty - Winter Salt    0.000954\n",
      "Type of Cleaning_Detail - full mopping    0.000118\n",
      "dtype: float64\n"
     ]
    }
   ],
   "source": [
    "#running a  Random forest model to compare its performance with the Regression Model. \n",
    "#Note that forest model tells the feature that matters the most, while Regression model gives direction and magnititude\n",
    "from sklearn.ensemble import RandomForestRegressor\n",
    "forest_model  = RandomForestRegressor(random_state = 42)\n",
    "forest_model.fit(x, y)\n",
    "#display feature importance\n",
    "importance = pd.Series(forest_model.feature_importances_, index=x.columns)\n",
    "print(importance.sort_values(ascending = False))"
   ]
  },
  {
   "cell_type": "code",
   "execution_count": 88,
   "id": "39fecdd2-3b0b-4354-bf46-20f46ff4f489",
   "metadata": {},
   "outputs": [
    {
     "name": "stderr",
     "output_type": "stream",
     "text": [
      "C:\\Users\\Maureen Michael\\AppData\\Local\\Temp\\ipykernel_10040\\3589080144.py:3: FutureWarning: \n",
      "\n",
      "Passing `palette` without assigning `hue` is deprecated and will be removed in v0.14.0. Assign the `y` variable to `hue` and set `legend=False` for the same effect.\n",
      "\n",
      "  sns.barplot(x=importance.sort_values(), y=importance.sort_values().index, palette=\"viridis\")\n"
     ]
    },
    {
     "data": {
      "image/png": "[encoded data removed]",
      "text/plain": [
       "<Figure size 1000x600 with 1 Axes>"
      ]
     },
     "metadata": {},
     "output_type": "display_data"
    }
   ],
   "source": [
    "#plot random forest graph\n",
    "plt.figure(figsize=(10, 6))\n",
    "sns.barplot(x=importance.sort_values(), y=importance.sort_values().index, palette=\"viridis\")\n",
    "plt.title(\"Random Forest Feature Importances\")\n",
    "plt.xlabel(\"Importance\")\n",
    "plt.ylabel(\"Feature\")\n",
    "plt.tight_layout()\n",
    "plt.show()"
   ]
  },
  {
   "cell_type": "code",
   "execution_count": 90,
   "id": "05b38f6e-bf8d-4aaf-89e4-dc8643efe0e1",
   "metadata": {},
   "outputs": [
    {
     "name": "stdout",
     "output_type": "stream",
     "text": [
      "Linear Regression R-sq: 0.6859383574325161\n",
      "Random Forest R-sq: 0.9192660881905339\n",
      "Linear Regression MAE: 14.820111283366954\n",
      "Random Forest MAE: 8.375555555555557\n",
      "Linear Regression MSE: 405.7317771330688\n",
      "Random Forest MSE: 104.29899444444447\n"
     ]
    }
   ],
   "source": [
    "#test models performancs using R-square\n",
    "\n",
    "from sklearn.metrics import r2_score, mean_absolute_error, mean_squared_error\n",
    "#make predictions \n",
    "predict_linearReg = model.predict(x)\n",
    "predict_forest = forest_model.predict(x)\n",
    "\n",
    "#compare scores for the two models\n",
    "#R-square score\n",
    "print(\"Linear Regression R-sq:\", r2_score(y, predict_linearReg))\n",
    "print(\"Random Forest R-sq:\", r2_score(y, predict_forest))\n",
    "\n",
    "#mean_absolute_error scores\n",
    "print(\"Linear Regression MAE:\", mean_absolute_error(y, predict_linearReg))\n",
    "print(\"Random Forest MAE:\", mean_absolute_error(y, predict_forest))\n",
    "\n",
    "#mean squared error scores\n",
    "print(\"Linear Regression MSE:\", mean_squared_error(y, predict_linearReg))\n",
    "print(\"Random Forest MSE:\", mean_squared_error(y, predict_forest))"
   ]
  },
  {
   "cell_type": "code",
   "execution_count": 251,
   "id": "2fde0602-fb28-4de5-812a-a21116f38b11",
   "metadata": {},
   "outputs": [
    {
     "name": "stdout",
     "output_type": "stream",
     "text": [
      "                            OLS Regression Results                            \n",
      "==============================================================================\n",
      "Dep. Variable:          Duration_Mins   R-squared:                       0.686\n",
      "Model:                            OLS   Adj. R-squared:                  0.500\n",
      "Method:                 Least Squares   F-statistic:                     3.696\n",
      "Date:                Sun, 25 May 2025   Prob (F-statistic):            0.00343\n",
      "Time:                        20:50:28   Log-Likelihood:                -159.18\n",
      "No. Observations:                  36   AIC:                             346.4\n",
      "Df Residuals:                      22   BIC:                             368.5\n",
      "Df Model:                          13                                         \n",
      "Covariance Type:            nonrobust                                         \n",
      "==========================================================================================================\n",
      "                                             coef    std err          t      P>|t|      [0.025      0.975]\n",
      "----------------------------------------------------------------------------------------------------------\n",
      "const                                   1054.8261    298.866      3.529      0.002     435.015    1674.637\n",
      "Break Duration                             1.1217      0.525      2.137      0.044       0.033       2.210\n",
      "StartTime_Mins                            -0.5224      0.218     -2.394      0.026      -0.975      -0.070\n",
      "Music_Yes                                 -9.5741     10.847     -0.883      0.387     -32.069      12.921\n",
      "Feeling_Extremely Tired                  -41.7446     40.227     -1.038      0.311    -125.170      41.680\n",
      "Feeling_Neutral                          -30.6167     28.083     -1.090      0.287     -88.858      27.625\n",
      "Feeling_Tired                             -8.0040     28.324     -0.283      0.780     -66.745      50.737\n",
      "Building Condition_Dirty - Winter Salt    25.1392     28.059      0.896      0.380     -33.052      83.330\n",
      "Building Condition_Mild                  -14.9950     11.367     -1.319      0.201     -38.568       8.578\n",
      "Building Condition_Semi-clean             15.2619     30.619      0.498      0.623     -48.238      78.761\n",
      "Type of Cleaning_Detail - full mopping    19.3801     29.008      0.668      0.511     -40.780      79.540\n",
      "Type of Cleaning_Detailed                 23.8243     22.622      1.053      0.304     -23.091      70.740\n",
      "Type of Cleaning_Mild                    -20.9252     17.987     -1.163      0.257     -58.228      16.377\n",
      "Type of Cleaning_Minimal                 -26.9507     12.000     -2.246      0.035     -51.837      -2.064\n",
      "==============================================================================\n",
      "Omnibus:                        0.603   Durbin-Watson:                   1.644\n",
      "Prob(Omnibus):                  0.740   Jarque-Bera (JB):                0.078\n",
      "Skew:                           0.039   Prob(JB):                        0.962\n",
      "Kurtosis:                       3.213   Cond. No.                     9.50e+04\n",
      "==============================================================================\n",
      "\n",
      "Notes:\n",
      "[1] Standard Errors assume that the covariance matrix of the errors is correctly specified.\n",
      "[2] The condition number is large, 9.5e+04. This might indicate that there are\n",
      "strong multicollinearity or other numerical problems.\n"
     ]
    }
   ],
   "source": [
    "#the r2_score, mean_absolute_error, and mean_squared_error  from Random Square model proved that music has week impact.\n",
    "#lets explore with p-value to  either accept or reject the hypothesis that music has  positive impact on work completion  time\n",
    "\n",
    "#first import OLS Regression from statsmodel\n",
    "import statsmodels.api as sm\n",
    "import numpy as np\n",
    "\n",
    "#encode categorical data and identify target\n",
    "x = pd.get_dummies(dataset[features], drop_first = True)\n",
    "\n",
    "#add intercept, which is  constant x\n",
    "x = sm.add_constant(x)\n",
    "\n",
    "#convert all x values to float\n",
    "x = x.astype(float)\n",
    "\n",
    "y  = pd.to_numeric(dataset['Duration_Mins'], errors = 'coerce')\n",
    "\n",
    "#mask x and y\n",
    "mask  = ~y.isna()\n",
    "x, y = x[mask], y[mask]\n",
    "\n",
    "#fit modle\n",
    "ols_model = sm.OLS(y, x).fit()\n",
    "\n",
    "#print result\n",
    "print(ols_model.summary())"
   ]
  },
  {
   "cell_type": "code",
   "execution_count": 92,
   "id": "b9bad976-e4e2-4c17-bd2c-533a179ca248",
   "metadata": {},
   "outputs": [
    {
     "data": {
      "text/html": [
       "<div>\n",
       "<style scoped>\n",
       "    .dataframe tbody tr th:only-of-type {\n",
       "        vertical-align: middle;\n",
       "    }\n",
       "\n",
       "    .dataframe tbody tr th {\n",
       "        vertical-align: top;\n",
       "    }\n",
       "\n",
       "    .dataframe thead th {\n",
       "        text-align: right;\n",
       "    }\n",
       "</style>\n",
       "<table border=\"1\" class=\"dataframe\">\n",
       "  <thead>\n",
       "    <tr style=\"text-align: right;\">\n",
       "      <th></th>\n",
       "      <th>Scenario</th>\n",
       "      <th>Predicted Duration (mins)</th>\n",
       "    </tr>\n",
       "  </thead>\n",
       "  <tbody>\n",
       "    <tr>\n",
       "      <th>0</th>\n",
       "      <td>With Music</td>\n",
       "      <td>348.70</td>\n",
       "    </tr>\n",
       "    <tr>\n",
       "      <th>1</th>\n",
       "      <td>Without Music</td>\n",
       "      <td>349.88</td>\n",
       "    </tr>\n",
       "  </tbody>\n",
       "</table>\n",
       "</div>"
      ],
      "text/plain": [
       "        Scenario  Predicted Duration (mins)\n",
       "0     With Music                     348.70\n",
       "1  Without Music                     349.88"
      ]
     },
     "execution_count": 92,
     "metadata": {},
     "output_type": "execute_result"
    }
   ],
   "source": [
    "#forecast what the next month will be like with and without music\n",
    "\n",
    "import pandas as pd\n",
    "\n",
    "features = ['Music', 'Feeling', 'Break Duration',\n",
    "            'StartTime_Mins', 'Building Condition', 'Type of Cleaning']\n",
    "X_forest = pd.get_dummies(dataset[features], drop_first=True)\n",
    "#create base data\n",
    "base_data = {\n",
    "    'Break Duration': [50, 50],\n",
    "    'StartTime_Mins': [1350, 1350],\n",
    "    'Music_Yes': [1, 0],  \n",
    "    'Feeling_Neutral': [1, 1],\n",
    "    'Feeling_Tired': [0, 0],\n",
    "    'Feeling_Extremely Tired': [0, 0],\n",
    "    'Building Condition_Mild': [1, 1],\n",
    "    'Building Condition_Semi-clean': [0, 0],\n",
    "    'Building Condition_Dirty - Winter Salt': [0, 0],\n",
    "    'Type of Cleaning_Detailed': [1, 1],\n",
    "    'Type of Cleaning_Mild': [0, 0],\n",
    "    'Type of Cleaning_Minimal': [0, 0],\n",
    "    'Type of Cleaning_Detail - full mopping': [0, 0],\n",
    "}\n",
    "\n",
    "forecast_df = pd.DataFrame(base_data)\n",
    "\n",
    "#reorder columns  to match the trained data\n",
    "\n",
    "#forecast_df = forecast_df[X.columns]\n",
    "forecast_df = forecast_df.reindex(columns=X_forest.columns, fill_value=0)\n",
    "\n",
    "#predict\n",
    "predictions = forest_model.predict(forecast_df)\n",
    "\n",
    "#assign labels for readability\n",
    "forecast_df['Scenario'] = ['With Music', 'Without Music']\n",
    "forecast_df['Predicted Duration (mins)'] = predictions\n",
    "\n",
    "#display result\n",
    "forecast_df[['Scenario', 'Predicted Duration (mins)']]\n"
   ]
  },
  {
   "cell_type": "code",
   "execution_count": 96,
   "id": "2d436426-6947-4c34-8294-344bbe2c57f4",
   "metadata": {},
   "outputs": [],
   "source": [
    "dataset.to_csv('Cleaned_dataset', index = False)"
   ]
  },
  {
   "cell_type": "code",
   "execution_count": 128,
   "id": "a60bf5ef-1cce-4de7-8cb4-b9684a134bcc",
   "metadata": {},
   "outputs": [
    {
     "data": {
      "text/html": [
       "<div>\n",
       "<style scoped>\n",
       "    .dataframe tbody tr th:only-of-type {\n",
       "        vertical-align: middle;\n",
       "    }\n",
       "\n",
       "    .dataframe tbody tr th {\n",
       "        vertical-align: top;\n",
       "    }\n",
       "\n",
       "    .dataframe thead th {\n",
       "        text-align: right;\n",
       "    }\n",
       "</style>\n",
       "<table border=\"1\" class=\"dataframe\">\n",
       "  <thead>\n",
       "    <tr style=\"text-align: right;\">\n",
       "      <th></th>\n",
       "      <th>Category</th>\n",
       "      <th>Duration (mins)</th>\n",
       "      <th>Day</th>\n",
       "      <th>Date</th>\n",
       "    </tr>\n",
       "  </thead>\n",
       "  <tbody>\n",
       "    <tr>\n",
       "      <th>0</th>\n",
       "      <td>Earliest Completion</td>\n",
       "      <td>285.0</td>\n",
       "      <td>Monday</td>\n",
       "      <td>2024-12-16</td>\n",
       "    </tr>\n",
       "    <tr>\n",
       "      <th>1</th>\n",
       "      <td>Latest Completion</td>\n",
       "      <td>414.0</td>\n",
       "      <td>Tuesday</td>\n",
       "      <td>2024-11-12</td>\n",
       "    </tr>\n",
       "  </tbody>\n",
       "</table>\n",
       "</div>"
      ],
      "text/plain": [
       "              Category  Duration (mins)      Day       Date\n",
       "0  Earliest Completion            285.0   Monday 2024-12-16\n",
       "1    Latest Completion            414.0  Tuesday 2024-11-12"
      ]
     },
     "execution_count": 128,
     "metadata": {},
     "output_type": "execute_result"
    }
   ],
   "source": [
    "\n",
    "#Find earliest and latest completion days\n",
    "earliest_completion = dataset['Duration_Mins'].min()\n",
    "latest_completion = dataset['Duration_Mins'].max()\n",
    "\n",
    "#Get rows for those durations\n",
    "earliest_row = dataset[dataset['Duration_Mins'] == earliest_completion].iloc[0]\n",
    "latest_row = dataset[dataset['Duration_Mins'] == latest_completion].iloc[0]\n",
    "\n",
    "#Prepare values\n",
    "category = ['Earliest Completion', 'Latest Completion']\n",
    "result = [earliest_completion, latest_completion]\n",
    "workday = [earliest_row['Day'], latest_row['Day']]\n",
    "workdate = [earliest_row['Date'], latest_row['Date']]\n",
    "\n",
    "# Build the result DataFrame\n",
    "completion_diff = pd.DataFrame({\n",
    "    'Category': category,\n",
    "    'Duration (mins)': result,\n",
    "    'Day': workday,\n",
    "    'Date': workdate\n",
    "})\n",
    "\n",
    "completion_diff.head()\n"
   ]
  },
  {
   "cell_type": "code",
   "execution_count": null,
   "id": "add74f3d-ddd0-4830-937c-9a474e191a5a",
   "metadata": {},
   "outputs": [],
   "source": []
  }
 ],
 "metadata": {
  "kernelspec": {
   "display_name": "Python 3 (ipykernel)",
   "language": "python",
   "name": "python3"
  },
  "language_info": {
   "codemirror_mode": {
    "name": "ipython",
    "version": 3
   },
   "file_extension": ".py",
   "mimetype": "text/x-python",
   "name": "python",
   "nbconvert_exporter": "python",
   "pygments_lexer": "ipython3",
   "version": "3.12.4"
  }
 },
 "nbformat": 4,
 "nbformat_minor": 5
}
